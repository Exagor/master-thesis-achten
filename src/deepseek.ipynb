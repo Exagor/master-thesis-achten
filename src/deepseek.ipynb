{
 "cells": [
  {
   "cell_type": "markdown",
   "id": "52cf6753",
   "metadata": {},
   "source": [
    "# Testing deepseek models\n",
    "\n",
    "Preprocessing"
   ]
  },
  {
   "cell_type": "code",
   "execution_count": 1,
   "id": "d2ee5154",
   "metadata": {},
   "outputs": [
    {
     "name": "stderr",
     "output_type": "stream",
     "text": [
      "2025-05-22 14:59:36,743 CropBox missing from /Page, defaulting to MediaBox\n",
      "2025-05-22 14:59:37,593 CropBox missing from /Page, defaulting to MediaBox\n",
      "2025-05-22 14:59:38,303 CropBox missing from /Page, defaulting to MediaBox\n"
     ]
    },
    {
     "name": "stdout",
     "output_type": "stream",
     "text": [
      "dict_keys(['24EM03456'])\n",
      "{'24EM03456': {'text': \"COPIE INTERNE 29/10/2024\\n\\nDr ROGER Thierry \\nCHIREC DELTA\\nRadiodiagnostic\\nBOULEVARD DU TRIOMPHE 1\\n1160 AUDERGHEM\\n\\nCentre d’Anatomie \\n Pathologique H.U.B.\\n\\nRue Meylemeersch 90 - 1070 Anderlecht \\nMijlemeerschstraat 90 – 1070 Anderlecht\\n\\nPATIENT :    \\n  \\nID :   \\nRéf. Externe : 24CU052383 \\n \\nPrélevé le 30/07/2024 à 30/07/2024 11:30 \\nReçu le 08/08/2024\\n\\nEXAMEN : 24EM03456 \\n \\nPrescripteur : Dr ROGER Thierry\\n\\nDirectrice de Service \\nPr Myriam Remmelink\\n\\nEquipe Médicale  \\nDr Nicolas de Saint Aubain\\n\\nPr Nicky D’Haene \\nDr Maria Gomez Galdon\\n\\nDr Chirine Khaled \\nPr Denis Larsimont\\n\\nDr Laetitia Lebrun\\n\\nDr Calliope Maris \\nPr Jean-Christophe Noël\\n\\nPr Isabelle Salmon \\nDr Anne-Laure Trépant\\n\\nPr Laurine Verset\\n\\nRECHERCHE PAR « NEXT GENERATION SEQUENCING » DE \\nMUTATIONS DANS 25 GENES IMPLIQUES DANS LES CANCERS\\n\\nConsultant (e) s\\n\\nDr Sarah Bouri \\nDr Xavier Catteau \\nDr Roland de Wind\\n\\nPULMONAIRES, LES GIST ET MELANOMES \\n(Colon and Lung Panel  + Oncomine Solid Tumor-plus PANEL)\\n\\nDr Valérie Segers\\n\\nDr Anne Theunis \\nDr Marie-Paule Van Craynest\\n\\nHUB – Centre d’Anatomie Pathologique  –  est accrédité par BELAC sous le numéro de\\n\\nSecrétariat Médical \\nT. +32 (0)2 541 73 23\\n\\ncertificat B-727 MED\\n\\nI. Renseignements anatomopathologiques \\n \\nN° du prélèvement : 24CU052383 pneu \\n \\nDate du prélèvement : 30/07/2024 \\n \\nOrigine du prélèvement : Curepath \\n \\nType de prélèvement : Adénocarcinome TTF1+ \\n \\n \\nII. Evaluation de l’échantillon \\n- % de cellules tumorales : <10% \\n- Qualité du séquençage : Optimale (coverage moyen > 1000x) \\n- Les exons à considérer comme non contributifs sont détaillés dans le tableau ci-dessous (point III).  \\n- Commentaires : /\\n\\n+32 (0)2 555 33 35\\n\\nSecMed.AnaPath@hubruxelles.be\\n\\nSecrétariat Direction\\n\\nT. +32 (0)2 555 31 15  \\nMme Kathia El Yassini \\nKathia.elyassini@hubruxelles.be\\n\\nMme Véronique Millecamps \\nveronique.millecamps@hubruxelles.be\\n\\n1 / 3\\n\\nSuite de l’examen N° 24EM03456 concernant le patient\\n\\nIII. Méthodologie (effectué par : CLVA, NADN, NIDH) \\n \\n- \\nExtraction ADN à partir de coupes paraffinées après macrodissection des zones \\ntumorales ou à partir de frottis.  \\n \\n- \\nDétection par « Next Generation Sequencing » (sur Ion Gene Studio S5, Ion Torrent \\navec Kit AmpliSeq colon & lung cancer panel et OST-plus) de mutations dans 25 gènes \\nliés aux cancers pulmonaires, GIST et mélanomes:\\n\\nExons Non \\nContributif \\n(coverage <\\n\\nExons Non \\nContributif \\n(coverage <\\n\\nGene \\nRefSeq \\nExons testés\\n\\nGene \\nRefSeq \\nExons testés\\n\\n250x)*\\n\\n250x)*\\n\\n8, 9, 11, 13, 14,\\n\\nAKT1 \\nNM_05163 \\n3 \\n \\n \\nKIT \\nNM_000222\\n\\n17, 18 \\n \\nALK \\nNM_004304 \\n22, 23, 24, 25 \\n \\n \\nKRAS \\nNM_033360 \\n2-4 \\n \\nBRAF \\nNM_004333 \\n11,  15 \\n \\n \\nMAP2K1\\nNM_002755 \\n2\\n\\nCTNNB1 \\nNM_001904 \\n3 \\n \\n \\nMET \\nNM_001127500\\n2, 14-20 \\n \\nDDR2 \\nNM_001014796\\n6, 9, 13-16, 18 \\n \\n \\nNOTCH1\\nNM_017617 \\n26, 27 \\n \\nEGFR \\nNM_005228 \\n12, 18-21 \\n \\n \\nNRAS \\nNM_002524 \\n2, 3, 4\\n\\nERBB2 \\nNM_004448 \\n19-21 \\n \\n \\nPDGFRA\\nNM_006206 \\n12, 14, 18\\n\\n3, 4, 6-10, 12,\\n\\nERBB4 \\nNM_005235\\n\\n15, 23 \\n \\n \\nPIK3CA \\nNM_006218 \\n9, 13, 20 \\n \\nFBXW7 \\nNM_033632 \\n5, 8-11 \\n8 \\n \\nPTEN \\nNM_000314 \\n1, 3, 6-8 \\n \\nFGFR1 \\nNM_023110 \\n4, 7 \\n \\n \\nSMAD4 \\nNM_005359 \\n3, 5, 6, 8-10, 12\\n\\nFGFR2 \\nNM_022970 \\n7, 9, 12, 14 \\n \\n \\nSTK11 \\nNM_000455 \\n1, 4-6, 8 \\n \\nFGFR3 \\nNM_000142 \\n7, 9, 14, 16, 18 \\n \\n \\nTP53 \\nNM_000546 \\n2, 4-8, 10 \\n \\nHRAS \\nNM_005343 \\n2, 3, 4 \\n \\n \\n \\n \\n \\n \\n* Un coverage < 250x induit une perte de sensibilité et de spécificité de la méthode.  \\n \\n- \\nSensibilité : la technique utilisée détecte une mutation si l’échantillon contient > 4% \\nd’ADN mutant. Seules les mutations rapportées dans COSMIC et avec une fréquence \\nsupérieure à 4% et un variant coverage >30x sont rapportées. \\n \\nIV. Résultats  \\nListe des mutations détectées :\\n\\nGène\\nExon\\nMutation\\nCoverage\\n% d’ADN muté\\nMutations avec impact clinique potentiel\\nKRAS\\n3\\np.A59E\\n1777\\n2%\\nMutations avec impact clinique indéterminé\\nTP53\\n7\\np.P250L\\n1939\\n5%\\n \\nLes données suggèrent la présence de la mutation A59E du gène KRAS à une \\nfréquence allélique de 2%.  \\nThéoriquement, seules les mutations avec une fréquence allélique supérieure à 4% \\net un variant coverage >30x sont rapportées. Néanmoins, la mutation A59E du gène \\nKRAS a été retrouvée lors de 2 expériences indépendantes (avec une fréquence \\nallélique similaire), c'est pourquoi, elle est rapportée ici. \\n \\nV. Discussion : \\n \\n \\nL'impact de la présence de mutation du gène KRAS sur la sensibilité ou la \\nrésistance aux inhibiteurs de la voie EGFR est indéterminé à ce jour. Il est à noter \\nque les mutations du gène KRAS sont mutuellement exclusives avec les mutations \\ndu gène EGFR et les translocations du gène ALK et du gène ROS1. \\nVincent MD et al., Curr Oncol 2013, 19 :s33-s44 \\n \\nLes mutations du gène TP53 sont fréquentes dans les cancers pulmonaires, leur impact \\nclinique est indéterminé.\\n\\n| 0      | 1            | 2                  | 3            |\\n|:-------|:-------------|:-------------------|:-------------|\\n| Gene   | RefSeq       | Exons testés       | Exons Non    |\\n|        |              |                    | Contributif  |\\n|        |              |                    | (coverage <  |\\n|        |              |                    | 250x)*       |\\n| KIT    | NM_000222    | 8, 9, 11, 13, 14,  |              |\\n|        |              | 17, 18             |              |\\n| KRAS   | NM_033360    | 2-4                |              |\\n| MAP2K1 | NM_002755    | 2                  |              |\\n| MET    | NM_001127500 | 2, 14-20           |              |\\n| NOTCH1 | NM_017617    | 26, 27             |              |\\n| NRAS   | NM_002524    | 2, 3, 4            |              |\\n| PDGFRA | NM_006206    | 12, 14, 18         |              |\\n| PIK3CA | NM_006218    | 9, 13, 20          |              |\\n| PTEN   | NM_000314    | 1, 3, 6-8          |              |\\n| SMAD4  | NM_005359    | 3, 5, 6, 8-10, 12  |              |\\n| STK11  | NM_000455    | 1, 4-6, 8          |              |\\n| TP53   | NM_000546    | 2, 4-8, 10         |              |\\n\\n| 0      | 1            | 2                | 3            |\\n|:-------|:-------------|:-----------------|:-------------|\\n| Gene   | RefSeq       | Exons testés     | Exons Non    |\\n|        |              |                  | Contributif  |\\n|        |              |                  | (coverage <  |\\n|        |              |                  | 250x)*       |\\n| AKT1   | NM_05163     | 3                |              |\\n| ALK    | NM_004304    | 22, 23, 24, 25   |              |\\n| BRAF   | NM_004333    | 11,  15          |              |\\n| CTNNB1 | NM_001904    | 3                |              |\\n| DDR2   | NM_001014796 | 6, 9, 13-16, 18  |              |\\n| EGFR   | NM_005228    | 12, 18-21        |              |\\n| ERBB2  | NM_004448    | 19-21            |              |\\n| ERBB4  | NM_005235    | 3, 4, 6-10, 12,  |              |\\n|        |              | 15, 23           |              |\\n| FBXW7  | NM_033632    | 5, 8-11          | 8            |\\n| FGFR1  | NM_023110    | 4, 7             |              |\\n| FGFR2  | NM_022970    | 7, 9, 12, 14     |              |\\n| FGFR3  | NM_000142    | 7, 9, 14, 16, 18 |              |\\n| HRAS   | NM_005343    | 2, 3, 4          |              |\\n\\n| 0                                          |\\n|:-------------------------------------------|\\n| Gène                                       |\\n| Exon                                       |\\n| Mutation                                   |\\n| Coverage                                   |\\n| % d’ADN muté                               |\\n| Mutations avec impact clinique potentiel   |\\n| KRAS                                       |\\n| 3                                          |\\n| p.A59E                                     |\\n| 1777                                       |\\n| 2%                                         |\\n| Mutations avec impact clinique indéterminé |\\n| TP53                                       |\\n| 7                                          |\\n| p.P250L                                    |\\n| 1939                                       |\\n| 5%                                         |\\n\\n2 / 3\\n\\nSuite de l’examen N° 24EM03456 concernant le patient\\n\\nVI. Conclusion : (CLVA le 20/08/2024) \\n \\nAbsence de mutation détectée dans le gène EGFR. \\nAbsence de mutation détectée dans le codon V600 du gène BRAF. \\nPrésence de la mutation A59E du gène KRAS. Néanmoins la fréquence allélique est \\nen-dessous du seuil de détection validé (voir Résultats). \\nA noter la présence de la mutation P250L du gène TP53, dont l’impact clinique est \\nindéterminé. \\n \\nCe résultat est à considérer avec précaution en raison du faible pourcentage de \\ncellules tumorales dans l’échantillon analysé. \\n \\nEn raison de la présence d'une mutation driver (A59E du gène KRAS), la recherche d'un \\nréarrangement des gènes ALK, ROS1, RET, NTRK1, NTRK2 et NTRK3 ne sera pas \\neffectuée. \\n \\n \\n \\nPour toute information complémentaire, veuillez nous contacter au 02/555.85.08 ou par mail : \\nBiomol.AnaPath@erasme.ulb.ac.be \\nN.B. Pour les prélèvements d’histologie et de cytologie ainsi que pour les examens complémentaires \\nde biologie moléculaire, merci d’utiliser les nouvelles prescriptions disponibles sur le site internet du \\nHUB :  \\nhttps://www.hubruxelles.be/sites/default/files/2024-03-04_demande%20analyse%20anapath%20cytologie%20v3.pdf \\nhttps://www.hubruxelles.be/sites/default/files/FO-HUB-BM-11%20Demande%20de%20biologie%20mol%C3%A9culaire-\\nIPD%20v1.doc \\n \\n \\n \\n  \\n  \\nDr  N  D'HAENE\\n\\nDr COMPERE CHRISTOPHE\\n\\n3 / 3\", 'image': [<PIL.PpmImagePlugin.PpmImageFile image mode=RGB size=1653x2339 at 0x7F3C298DF160>, <PIL.PpmImagePlugin.PpmImageFile image mode=RGB size=1653x2339 at 0x7F3C298DF2B0>, <PIL.PpmImagePlugin.PpmImageFile image mode=RGB size=1653x2339 at 0x7F3C298DF310>]}}\n",
      "## Extraction de données depuis un rapport de biopsie\n",
      "\n",
      "Tu es un assistant médical intelligent spécialisé en oncologie.  \n",
      "Ta mission est d’extraire de manière fiable et structurée les **informations médicales clés** à partir de **rapports de biopsie** provenant de services d'oncologie hospitaliers.\n",
      "\n",
      "Tu recevras un **document textuel**, ou le **texte OCR extrait d'une image de rapport**, contenant les informations nécessaires.  \n",
      "Ta sortie doit être un **dictionnaire JSON structuré** et exploitable.\n",
      "\n",
      "---\n",
      "\n",
      "### Objectifs\n",
      "\n",
      "1. Lire et comprendre le contenu d’un rapport de biopsie.\n",
      "2. Identifier et extraire les informations cliniques spécifiques listées ci-dessous.\n",
      "3. Structurer les informations extraites sous forme de dictionnaire conforme.\n",
      "\n",
      "---\n",
      "\n",
      "### Informations à extraire\n",
      "\n",
      "Pour chaque rapport, extrais les données suivantes :\n",
      "\n",
      "| Clé du dictionnaire       | Description                                                                 |\n",
      "|---------------------------|-----------------------------------------------------------------------------|\n",
      "| `\"Examen\"`                | Numéro d'examen (code unique du rapport)                                   |\n",
      "| `\"N° du prélèvement\"`     | Numéro du prélèvement ou de l’échantillon                                   |\n",
      "| `\"Panel\"`                 | Panel de séquençage utilisé, catégorisé comme suit :                        |\n",
      "|                           | - Colon et poumon → `\"CLP\"`                                                |\n",
      "|                           | - Oncomine Solid Tumor → `\"OST\"`                                           |\n",
      "|                           | - Ovaire, endomètre, sein → `\"GP\"`                                         |\n",
      "|                           | - Thyroïde → `\"TP\"`                                                        |\n",
      "|                           | - Autres cancers → `\"CHP\"`                                                 |\n",
      "| `\"Origine du prélèvement\"`| Lieu géographique ou établissement d’où provient le prélèvement             |\n",
      "| `\"Type de prélèvement\"`   | Nature du prélèvement ou type histologique (ex. : adénocarcinome)           |\n",
      "| `\"Qualité du séquencage\"` | Appréciation de la qualité du séquençage (ex. : Optimale, Sous-optimale)   |\n",
      "| `\"% cellules\"`            | Pourcentage de cellules tumorales analysées ou à analyser (exprimé en % sans le signe)   |\n",
      "\n",
      "---\n",
      "\n",
      "### Format de sortie attendu\n",
      "\n",
      "- Tu dois retourner un **dictionnaire JSON** contenant uniquement les clés listées ci-dessus.\n",
      "- Les clés doivent **être exactement identiques** à celles spécifiées.\n",
      "- Les valeurs doivent être extraites telles quelles, sans modification.\n",
      "- Exemple de sortie :\n",
      "```json\n",
      "{\n",
      "  \"Examen\": \"24EM03460\",\n",
      "  \"N° du prélèvement\": \"24MH9721 BN\",\n",
      "  \"Panel\": \"CLP\",\n",
      "  \"Origine du prélèvement\": \"Centre Hospitalier de Mouscron\",\n",
      "  \"Type de prélèvement\": \"Adénocarcinome lieberkühnien\",\n",
      "  \"Qualité du séquencage\": \"Optimale\",\n",
      "  \"% cellules\": 50\n",
      "}\n",
      "```\n",
      "\n",
      "### Contraintes et règles\n",
      "\n",
      "- Si une donnée est absente ou non mentionnée, indique \"None\" comme valeur.\n",
      "- Ne jamais inventer ou compléter des données non présentes.\n",
      "- Respecter strictement les termes tels qu'ils apparaissent dans le texte.\n"
     ]
    }
   ],
   "source": [
    "from pdf_parser import *\n",
    "import os\n",
    "\n",
    "pdf_folder_path = \"../data/PDF\"\n",
    "# pdf_files = [f for f in os.listdir(pdf_folder_path) if f.endswith('.pdf')]\n",
    "pdf_files = [\"24EM03456.pdf\"]\n",
    "image_save_folder_path = \"../data/images\"\n",
    "\n",
    "pdf_text_image = {}\n",
    "for pdf_file in pdf_files:\n",
    "    pdf_text_image[os.path.splitext(pdf_file)[0]] = {\"text\":extract_all(os.path.join(pdf_folder_path,pdf_file))}\n",
    "    pdf_images = extract_pdf2image(f\"{pdf_folder_path}/{pdf_file}\")\n",
    "    pdf_text_image[os.path.splitext(pdf_file)[0]][\"image\"] = pdf_images\n",
    "\n",
    "print(pdf_text_image.keys())\n",
    "print(pdf_text_image)\n",
    "\n",
    "with open(\"../prompt/system_prompt_metadata.txt\", \"r\") as f:\n",
    "    system_prompt = f.read()\n",
    "print(system_prompt)"
   ]
  },
  {
   "cell_type": "markdown",
   "id": "61be6e2f",
   "metadata": {},
   "source": [
    "### Deepseek R1 1.5B distilled Qwen\n",
    "Not yet supported via the hugging face transformers library."
   ]
  },
  {
   "cell_type": "code",
   "execution_count": 2,
   "id": "5e8418f3",
   "metadata": {},
   "outputs": [
    {
     "name": "stderr",
     "output_type": "stream",
     "text": [
      "/home/alexa/.local/lib/python3.10/site-packages/tqdm/auto.py:21: TqdmWarning: IProgress not found. Please update jupyter and ipywidgets. See https://ipywidgets.readthedocs.io/en/stable/user_install.html\n",
      "  from .autonotebook import tqdm as notebook_tqdm\n",
      "2025-05-22 14:59:44.780842: I tensorflow/core/util/port.cc:153] oneDNN custom operations are on. You may see slightly different numerical results due to floating-point round-off errors from different computation orders. To turn them off, set the environment variable `TF_ENABLE_ONEDNN_OPTS=0`.\n",
      "2025-05-22 14:59:45.183062: E external/local_xla/xla/stream_executor/cuda/cuda_fft.cc:467] Unable to register cuFFT factory: Attempting to register factory for plugin cuFFT when one has already been registered\n",
      "WARNING: All log messages before absl::InitializeLog() is called are written to STDERR\n",
      "E0000 00:00:1747918785.407918   18203 cuda_dnn.cc:8579] Unable to register cuDNN factory: Attempting to register factory for plugin cuDNN when one has already been registered\n",
      "E0000 00:00:1747918785.465506   18203 cuda_blas.cc:1407] Unable to register cuBLAS factory: Attempting to register factory for plugin cuBLAS when one has already been registered\n",
      "W0000 00:00:1747918785.808766   18203 computation_placer.cc:177] computation placer already registered. Please check linkage and avoid linking the same target more than once.\n",
      "W0000 00:00:1747918785.808895   18203 computation_placer.cc:177] computation placer already registered. Please check linkage and avoid linking the same target more than once.\n",
      "W0000 00:00:1747918785.808896   18203 computation_placer.cc:177] computation placer already registered. Please check linkage and avoid linking the same target more than once.\n",
      "W0000 00:00:1747918785.808898   18203 computation_placer.cc:177] computation placer already registered. Please check linkage and avoid linking the same target more than once.\n",
      "2025-05-22 14:59:45.853552: I tensorflow/core/platform/cpu_feature_guard.cc:210] This TensorFlow binary is optimized to use available CPU instructions in performance-critical operations.\n",
      "To enable the following instructions: AVX2 AVX512F AVX512_VNNI FMA, in other operations, rebuild TensorFlow with the appropriate compiler flags.\n",
      "Sliding Window Attention is enabled but not implemented for `sdpa`; unexpected results may be encountered.\n",
      "Device set to use cpu\n"
     ]
    },
    {
     "name": "stdout",
     "output_type": "stream",
     "text": [
      "pipeline initialized\n"
     ]
    },
    {
     "ename": "TypeError",
     "evalue": "can only concatenate str (not \"list\") to str",
     "output_type": "error",
     "traceback": [
      "\u001b[0;31m---------------------------------------------------------------------------\u001b[0m",
      "\u001b[0;31mTypeError\u001b[0m                                 Traceback (most recent call last)",
      "Cell \u001b[0;32mIn[2], line 28\u001b[0m\n\u001b[1;32m     12\u001b[0m \u001b[38;5;28mprint\u001b[39m(\u001b[38;5;124m\"\u001b[39m\u001b[38;5;124mpipeline initialized\u001b[39m\u001b[38;5;124m\"\u001b[39m)\n\u001b[1;32m     14\u001b[0m messages \u001b[38;5;241m=\u001b[39m [\n\u001b[1;32m     15\u001b[0m     {\n\u001b[1;32m     16\u001b[0m         \u001b[38;5;124m\"\u001b[39m\u001b[38;5;124mrole\u001b[39m\u001b[38;5;124m\"\u001b[39m: \u001b[38;5;124m\"\u001b[39m\u001b[38;5;124msystem\u001b[39m\u001b[38;5;124m\"\u001b[39m,\n\u001b[0;32m   (...)\u001b[0m\n\u001b[1;32m     25\u001b[0m     }\n\u001b[1;32m     26\u001b[0m ]\n\u001b[0;32m---> 28\u001b[0m output \u001b[38;5;241m=\u001b[39m \u001b[43mpipe\u001b[49m\u001b[43m(\u001b[49m\u001b[43mmessages\u001b[49m\u001b[43m,\u001b[49m\u001b[43m \u001b[49m\u001b[43mmax_new_tokens\u001b[49m\u001b[38;5;241;43m=\u001b[39;49m\u001b[38;5;241;43m250\u001b[39;49m\u001b[43m)\u001b[49m \u001b[38;5;66;03m#temperature=0\u001b[39;00m\n\u001b[1;32m     29\u001b[0m \u001b[38;5;28mprint\u001b[39m(output[\u001b[38;5;241m0\u001b[39m][\u001b[38;5;124m\"\u001b[39m\u001b[38;5;124mgenerated_text\u001b[39m\u001b[38;5;124m\"\u001b[39m][\u001b[38;5;241m-\u001b[39m\u001b[38;5;241m1\u001b[39m][\u001b[38;5;124m\"\u001b[39m\u001b[38;5;124mcontent\u001b[39m\u001b[38;5;124m\"\u001b[39m])\n",
      "File \u001b[0;32m~/.local/lib/python3.10/site-packages/transformers/pipelines/text_generation.py:280\u001b[0m, in \u001b[0;36mTextGenerationPipeline.__call__\u001b[0;34m(self, text_inputs, **kwargs)\u001b[0m\n\u001b[1;32m    277\u001b[0m \u001b[38;5;28;01mif\u001b[39;00m \u001b[38;5;28misinstance\u001b[39m(first_item, (\u001b[38;5;28mlist\u001b[39m, \u001b[38;5;28mtuple\u001b[39m, \u001b[38;5;28mdict\u001b[39m)):\n\u001b[1;32m    278\u001b[0m     \u001b[38;5;66;03m# We have one or more prompts in list-of-dicts format, so this is chat mode\u001b[39;00m\n\u001b[1;32m    279\u001b[0m     \u001b[38;5;28;01mif\u001b[39;00m \u001b[38;5;28misinstance\u001b[39m(first_item, \u001b[38;5;28mdict\u001b[39m):\n\u001b[0;32m--> 280\u001b[0m         \u001b[38;5;28;01mreturn\u001b[39;00m \u001b[38;5;28;43msuper\u001b[39;49m\u001b[43m(\u001b[49m\u001b[43m)\u001b[49m\u001b[38;5;241;43m.\u001b[39;49m\u001b[38;5;21;43m__call__\u001b[39;49m\u001b[43m(\u001b[49m\u001b[43mChat\u001b[49m\u001b[43m(\u001b[49m\u001b[43mtext_inputs\u001b[49m\u001b[43m)\u001b[49m\u001b[43m,\u001b[49m\u001b[43m \u001b[49m\u001b[38;5;241;43m*\u001b[39;49m\u001b[38;5;241;43m*\u001b[39;49m\u001b[43mkwargs\u001b[49m\u001b[43m)\u001b[49m\n\u001b[1;32m    281\u001b[0m     \u001b[38;5;28;01melse\u001b[39;00m:\n\u001b[1;32m    282\u001b[0m         chats \u001b[38;5;241m=\u001b[39m (Chat(chat) \u001b[38;5;28;01mfor\u001b[39;00m chat \u001b[38;5;129;01min\u001b[39;00m text_inputs)  \u001b[38;5;66;03m# 🐈 🐈 🐈\u001b[39;00m\n",
      "File \u001b[0;32m~/.local/lib/python3.10/site-packages/transformers/pipelines/base.py:1379\u001b[0m, in \u001b[0;36mPipeline.__call__\u001b[0;34m(self, inputs, num_workers, batch_size, *args, **kwargs)\u001b[0m\n\u001b[1;32m   1371\u001b[0m     \u001b[38;5;28;01mreturn\u001b[39;00m \u001b[38;5;28mnext\u001b[39m(\n\u001b[1;32m   1372\u001b[0m         \u001b[38;5;28miter\u001b[39m(\n\u001b[1;32m   1373\u001b[0m             \u001b[38;5;28mself\u001b[39m\u001b[38;5;241m.\u001b[39mget_iterator(\n\u001b[0;32m   (...)\u001b[0m\n\u001b[1;32m   1376\u001b[0m         )\n\u001b[1;32m   1377\u001b[0m     )\n\u001b[1;32m   1378\u001b[0m \u001b[38;5;28;01melse\u001b[39;00m:\n\u001b[0;32m-> 1379\u001b[0m     \u001b[38;5;28;01mreturn\u001b[39;00m \u001b[38;5;28;43mself\u001b[39;49m\u001b[38;5;241;43m.\u001b[39;49m\u001b[43mrun_single\u001b[49m\u001b[43m(\u001b[49m\u001b[43minputs\u001b[49m\u001b[43m,\u001b[49m\u001b[43m \u001b[49m\u001b[43mpreprocess_params\u001b[49m\u001b[43m,\u001b[49m\u001b[43m \u001b[49m\u001b[43mforward_params\u001b[49m\u001b[43m,\u001b[49m\u001b[43m \u001b[49m\u001b[43mpostprocess_params\u001b[49m\u001b[43m)\u001b[49m\n",
      "File \u001b[0;32m~/.local/lib/python3.10/site-packages/transformers/pipelines/base.py:1385\u001b[0m, in \u001b[0;36mPipeline.run_single\u001b[0;34m(self, inputs, preprocess_params, forward_params, postprocess_params)\u001b[0m\n\u001b[1;32m   1384\u001b[0m \u001b[38;5;28;01mdef\u001b[39;00m\u001b[38;5;250m \u001b[39m\u001b[38;5;21mrun_single\u001b[39m(\u001b[38;5;28mself\u001b[39m, inputs, preprocess_params, forward_params, postprocess_params):\n\u001b[0;32m-> 1385\u001b[0m     model_inputs \u001b[38;5;241m=\u001b[39m \u001b[38;5;28;43mself\u001b[39;49m\u001b[38;5;241;43m.\u001b[39;49m\u001b[43mpreprocess\u001b[49m\u001b[43m(\u001b[49m\u001b[43minputs\u001b[49m\u001b[43m,\u001b[49m\u001b[43m \u001b[49m\u001b[38;5;241;43m*\u001b[39;49m\u001b[38;5;241;43m*\u001b[39;49m\u001b[43mpreprocess_params\u001b[49m\u001b[43m)\u001b[49m\n\u001b[1;32m   1386\u001b[0m     model_outputs \u001b[38;5;241m=\u001b[39m \u001b[38;5;28mself\u001b[39m\u001b[38;5;241m.\u001b[39mforward(model_inputs, \u001b[38;5;241m*\u001b[39m\u001b[38;5;241m*\u001b[39mforward_params)\n\u001b[1;32m   1387\u001b[0m     outputs \u001b[38;5;241m=\u001b[39m \u001b[38;5;28mself\u001b[39m\u001b[38;5;241m.\u001b[39mpostprocess(model_outputs, \u001b[38;5;241m*\u001b[39m\u001b[38;5;241m*\u001b[39mpostprocess_params)\n",
      "File \u001b[0;32m~/.local/lib/python3.10/site-packages/transformers/pipelines/text_generation.py:316\u001b[0m, in \u001b[0;36mTextGenerationPipeline.preprocess\u001b[0;34m(self, prompt_text, prefix, handle_long_generation, add_special_tokens, truncation, padding, max_length, continue_final_message, **generate_kwargs)\u001b[0m\n\u001b[1;32m    314\u001b[0m     \u001b[38;5;28;01mif\u001b[39;00m continue_final_message \u001b[38;5;129;01mis\u001b[39;00m \u001b[38;5;28;01mNone\u001b[39;00m:\n\u001b[1;32m    315\u001b[0m         continue_final_message \u001b[38;5;241m=\u001b[39m prompt_text\u001b[38;5;241m.\u001b[39mmessages[\u001b[38;5;241m-\u001b[39m\u001b[38;5;241m1\u001b[39m][\u001b[38;5;124m\"\u001b[39m\u001b[38;5;124mrole\u001b[39m\u001b[38;5;124m\"\u001b[39m] \u001b[38;5;241m==\u001b[39m \u001b[38;5;124m\"\u001b[39m\u001b[38;5;124massistant\u001b[39m\u001b[38;5;124m\"\u001b[39m\n\u001b[0;32m--> 316\u001b[0m     inputs \u001b[38;5;241m=\u001b[39m \u001b[38;5;28;43mself\u001b[39;49m\u001b[38;5;241;43m.\u001b[39;49m\u001b[43mtokenizer\u001b[49m\u001b[38;5;241;43m.\u001b[39;49m\u001b[43mapply_chat_template\u001b[49m\u001b[43m(\u001b[49m\n\u001b[1;32m    317\u001b[0m \u001b[43m        \u001b[49m\u001b[43mprompt_text\u001b[49m\u001b[38;5;241;43m.\u001b[39;49m\u001b[43mmessages\u001b[49m\u001b[43m,\u001b[49m\n\u001b[1;32m    318\u001b[0m \u001b[43m        \u001b[49m\u001b[43madd_generation_prompt\u001b[49m\u001b[38;5;241;43m=\u001b[39;49m\u001b[38;5;129;43;01mnot\u001b[39;49;00m\u001b[43m \u001b[49m\u001b[43mcontinue_final_message\u001b[49m\u001b[43m,\u001b[49m\n\u001b[1;32m    319\u001b[0m \u001b[43m        \u001b[49m\u001b[43mcontinue_final_message\u001b[49m\u001b[38;5;241;43m=\u001b[39;49m\u001b[43mcontinue_final_message\u001b[49m\u001b[43m,\u001b[49m\n\u001b[1;32m    320\u001b[0m \u001b[43m        \u001b[49m\u001b[43mreturn_dict\u001b[49m\u001b[38;5;241;43m=\u001b[39;49m\u001b[38;5;28;43;01mTrue\u001b[39;49;00m\u001b[43m,\u001b[49m\n\u001b[1;32m    321\u001b[0m \u001b[43m        \u001b[49m\u001b[43mreturn_tensors\u001b[49m\u001b[38;5;241;43m=\u001b[39;49m\u001b[38;5;28;43mself\u001b[39;49m\u001b[38;5;241;43m.\u001b[39;49m\u001b[43mframework\u001b[49m\u001b[43m,\u001b[49m\n\u001b[1;32m    322\u001b[0m \u001b[43m        \u001b[49m\u001b[38;5;241;43m*\u001b[39;49m\u001b[38;5;241;43m*\u001b[39;49m\u001b[43mtokenizer_kwargs\u001b[49m\u001b[43m,\u001b[49m\n\u001b[1;32m    323\u001b[0m \u001b[43m    \u001b[49m\u001b[43m)\u001b[49m\n\u001b[1;32m    324\u001b[0m \u001b[38;5;28;01melse\u001b[39;00m:\n\u001b[1;32m    325\u001b[0m     inputs \u001b[38;5;241m=\u001b[39m \u001b[38;5;28mself\u001b[39m\u001b[38;5;241m.\u001b[39mtokenizer(prefix \u001b[38;5;241m+\u001b[39m prompt_text, return_tensors\u001b[38;5;241m=\u001b[39m\u001b[38;5;28mself\u001b[39m\u001b[38;5;241m.\u001b[39mframework, \u001b[38;5;241m*\u001b[39m\u001b[38;5;241m*\u001b[39mtokenizer_kwargs)\n",
      "File \u001b[0;32m~/.local/lib/python3.10/site-packages/transformers/tokenization_utils_base.py:1695\u001b[0m, in \u001b[0;36mPreTrainedTokenizerBase.apply_chat_template\u001b[0;34m(self, conversation, tools, documents, chat_template, add_generation_prompt, continue_final_message, tokenize, padding, truncation, max_length, return_tensors, return_dict, return_assistant_tokens_mask, tokenizer_kwargs, **kwargs)\u001b[0m\n\u001b[1;32m   1693\u001b[0m     all_generation_indices\u001b[38;5;241m.\u001b[39mappend(generation_indices)\n\u001b[1;32m   1694\u001b[0m \u001b[38;5;28;01melse\u001b[39;00m:\n\u001b[0;32m-> 1695\u001b[0m     rendered_chat \u001b[38;5;241m=\u001b[39m \u001b[43mcompiled_template\u001b[49m\u001b[38;5;241;43m.\u001b[39;49m\u001b[43mrender\u001b[49m\u001b[43m(\u001b[49m\n\u001b[1;32m   1696\u001b[0m \u001b[43m        \u001b[49m\u001b[43mmessages\u001b[49m\u001b[38;5;241;43m=\u001b[39;49m\u001b[43mchat\u001b[49m\u001b[43m,\u001b[49m\n\u001b[1;32m   1697\u001b[0m \u001b[43m        \u001b[49m\u001b[43mtools\u001b[49m\u001b[38;5;241;43m=\u001b[39;49m\u001b[43mtool_schemas\u001b[49m\u001b[43m,\u001b[49m\n\u001b[1;32m   1698\u001b[0m \u001b[43m        \u001b[49m\u001b[43mdocuments\u001b[49m\u001b[38;5;241;43m=\u001b[39;49m\u001b[43mdocuments\u001b[49m\u001b[43m,\u001b[49m\n\u001b[1;32m   1699\u001b[0m \u001b[43m        \u001b[49m\u001b[43madd_generation_prompt\u001b[49m\u001b[38;5;241;43m=\u001b[39;49m\u001b[43madd_generation_prompt\u001b[49m\u001b[43m,\u001b[49m\n\u001b[1;32m   1700\u001b[0m \u001b[43m        \u001b[49m\u001b[38;5;241;43m*\u001b[39;49m\u001b[38;5;241;43m*\u001b[39;49m\u001b[43mtemplate_kwargs\u001b[49m\u001b[43m,\u001b[49m\n\u001b[1;32m   1701\u001b[0m \u001b[43m    \u001b[49m\u001b[43m)\u001b[49m\n\u001b[1;32m   1702\u001b[0m \u001b[38;5;28;01mif\u001b[39;00m continue_final_message:\n\u001b[1;32m   1703\u001b[0m     final_message \u001b[38;5;241m=\u001b[39m chat[\u001b[38;5;241m-\u001b[39m\u001b[38;5;241m1\u001b[39m][\u001b[38;5;124m\"\u001b[39m\u001b[38;5;124mcontent\u001b[39m\u001b[38;5;124m\"\u001b[39m]\n",
      "File \u001b[0;32m~/.local/lib/python3.10/site-packages/jinja2/environment.py:1295\u001b[0m, in \u001b[0;36mTemplate.render\u001b[0;34m(self, *args, **kwargs)\u001b[0m\n\u001b[1;32m   1293\u001b[0m     \u001b[38;5;28;01mreturn\u001b[39;00m \u001b[38;5;28mself\u001b[39m\u001b[38;5;241m.\u001b[39menvironment\u001b[38;5;241m.\u001b[39mconcat(\u001b[38;5;28mself\u001b[39m\u001b[38;5;241m.\u001b[39mroot_render_func(ctx))  \u001b[38;5;66;03m# type: ignore\u001b[39;00m\n\u001b[1;32m   1294\u001b[0m \u001b[38;5;28;01mexcept\u001b[39;00m \u001b[38;5;167;01mException\u001b[39;00m:\n\u001b[0;32m-> 1295\u001b[0m     \u001b[38;5;28;43mself\u001b[39;49m\u001b[38;5;241;43m.\u001b[39;49m\u001b[43menvironment\u001b[49m\u001b[38;5;241;43m.\u001b[39;49m\u001b[43mhandle_exception\u001b[49m\u001b[43m(\u001b[49m\u001b[43m)\u001b[49m\n",
      "File \u001b[0;32m~/.local/lib/python3.10/site-packages/jinja2/environment.py:942\u001b[0m, in \u001b[0;36mEnvironment.handle_exception\u001b[0;34m(self, source)\u001b[0m\n\u001b[1;32m    937\u001b[0m \u001b[38;5;250m\u001b[39m\u001b[38;5;124;03m\"\"\"Exception handling helper.  This is used internally to either raise\u001b[39;00m\n\u001b[1;32m    938\u001b[0m \u001b[38;5;124;03mrewritten exceptions or return a rendered traceback for the template.\u001b[39;00m\n\u001b[1;32m    939\u001b[0m \u001b[38;5;124;03m\"\"\"\u001b[39;00m\n\u001b[1;32m    940\u001b[0m \u001b[38;5;28;01mfrom\u001b[39;00m\u001b[38;5;250m \u001b[39m\u001b[38;5;21;01m.\u001b[39;00m\u001b[38;5;21;01mdebug\u001b[39;00m\u001b[38;5;250m \u001b[39m\u001b[38;5;28;01mimport\u001b[39;00m rewrite_traceback_stack\n\u001b[0;32m--> 942\u001b[0m \u001b[38;5;28;01mraise\u001b[39;00m rewrite_traceback_stack(source\u001b[38;5;241m=\u001b[39msource)\n",
      "File \u001b[0;32m<template>:1\u001b[0m, in \u001b[0;36mtop-level template code\u001b[0;34m()\u001b[0m\n",
      "\u001b[0;31mTypeError\u001b[0m: can only concatenate str (not \"list\") to str"
     ]
    }
   ],
   "source": [
    "from transformers import pipeline\n",
    "import torch\n",
    "\n",
    "model_name = \"deepseek-ai/DeepSeek-R1-Distill-Qwen-1.5B\"\n",
    "\n",
    "pipe = pipeline(\n",
    "    \"text-generation\", #\"image-text-to-text\"\n",
    "    model=model_name,\n",
    "    torch_dtype=torch.bfloat16,\n",
    "    device=\"cpu\", #uses \"cpu\" here because the \"cuda\" requires 3 Go more of VRAM (5GO total)\n",
    ")\n",
    "print(\"pipeline initialized\")\n",
    "\n",
    "messages = [\n",
    "    {\n",
    "        \"role\": \"system\",\n",
    "        \"content\": [{\"type\": \"text\", \"text\": system_prompt}]\n",
    "    },\n",
    "    {\n",
    "        \"role\": \"user\",\n",
    "        \"content\": (\n",
    "            [{\"type\": \"text\", \"text\": pdf_text_image[\"24EM03456\"][\"text\"]}]\n",
    "        )\n",
    "    }\n",
    "]\n",
    "\n",
    "output = pipe(messages, max_new_tokens=250) #temperature=0\n",
    "print(output[0][\"generated_text\"][-1][\"content\"])"
   ]
  },
  {
   "cell_type": "code",
   "execution_count": null,
   "id": "4f1a2eea",
   "metadata": {},
   "outputs": [],
   "source": [
    "#save the output in json format\n",
    "import json\n",
    "import pandas as pd\n",
    "\n",
    "answer = output[0][\"generated_text\"][-1][\"content\"]\n",
    "cleaned = answer.replace(\"```json\", \"\").replace(\"```\", \"\").strip() #clean the answer\n",
    "row = json.loads(cleaned)\n",
    "print(row)\n",
    "\n",
    "df = pd.DataFrame([row])\n",
    "#save to xlsx\n",
    "df.to_excel(\"../out/metadata_deepseek_R1_1.5B.xlsx\", index=False)"
   ]
  }
 ],
 "metadata": {
  "kernelspec": {
   "display_name": "Python 3",
   "language": "python",
   "name": "python3"
  },
  "language_info": {
   "codemirror_mode": {
    "name": "ipython",
    "version": 3
   },
   "file_extension": ".py",
   "mimetype": "text/x-python",
   "name": "python",
   "nbconvert_exporter": "python",
   "pygments_lexer": "ipython3",
   "version": "3.10.12"
  }
 },
 "nbformat": 4,
 "nbformat_minor": 5
}
