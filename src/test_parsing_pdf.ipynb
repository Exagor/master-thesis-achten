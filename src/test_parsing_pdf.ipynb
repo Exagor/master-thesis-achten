{
 "cells": [
  {
   "cell_type": "markdown",
   "id": "95062f60",
   "metadata": {},
   "source": [
    "# Testing parsing of PDF\n",
    "\n",
    "Just to have a better idea of the pdf"
   ]
  },
  {
   "cell_type": "code",
   "execution_count": null,
   "id": "815e2d11",
   "metadata": {},
   "outputs": [],
   "source": [
    "from pdf_parser import *\n",
    "\n"
   ]
  }
 ],
 "metadata": {
  "language_info": {
   "name": "python"
  }
 },
 "nbformat": 4,
 "nbformat_minor": 5
}
