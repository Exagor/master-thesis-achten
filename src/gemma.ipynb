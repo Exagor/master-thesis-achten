{
 "cells": [
  {
   "cell_type": "markdown",
   "id": "47317110",
   "metadata": {},
   "source": [
    "# Gemma models testing\n",
    "\n",
    "## Preprocessing"
   ]
  },
  {
   "cell_type": "code",
   "execution_count": 2,
   "id": "2ca68e22",
   "metadata": {},
   "outputs": [
    {
     "name": "stderr",
     "output_type": "stream",
     "text": [
      "2025-05-21 20:17:20,477 CropBox missing from /Page, defaulting to MediaBox\n"
     ]
    },
    {
     "name": "stderr",
     "output_type": "stream",
     "text": [
      "2025-05-21 20:17:21,156 CropBox missing from /Page, defaulting to MediaBox\n",
      "2025-05-21 20:17:21,841 CropBox missing from /Page, defaulting to MediaBox\n"
     ]
    },
    {
     "name": "stdout",
     "output_type": "stream",
     "text": [
      "dict_keys(['24EM03352'])\n",
      "{'24EM03352': {'text': \"COPIE INTERNE 29/10/2024\\n\\nDr GOESSENS LAURENT \\nRUE DE TOURNAI 42\\n\\nCentre d’Anatomie \\n Pathologique H.U.B.\\n\\n7011 GHLIN\\n\\nRue Meylemeersch 90 - 1070 Anderlecht \\nMijlemeerschstraat 90 – 1070 Anderlecht\\n\\nPATIENT :    \\n  \\nID :   \\nRéf. Externe : 24MH9794 \\n \\nPrélevé le 23/07/2024 à 23/07/2024  \\nReçu le 31/07/2024\\n\\nEXAMEN : 24EM03352 \\n \\nPrescripteur : Dr GOESSENS LAURENT\\n\\nDirectrice de Service \\nPr Myriam Remmelink\\n\\nEquipe Médicale  \\nDr Nicolas de Saint Aubain\\n\\nPr Nicky D’Haene \\nDr Maria Gomez Galdon\\n\\nDr Chirine Khaled \\nPr Denis Larsimont\\n\\nDr Laetitia Lebrun\\n\\nDr Calliope Maris \\nPr Jean-Christophe Noël\\n\\nPr Isabelle Salmon \\nDr Anne-Laure Trépant\\n\\nPr Laurine Verset\\n\\nConsultant (e) s\\n\\nRECHERCHE PAR « NEXT GENERATION SEQUENCING » DE \\nMUTATIONS DANS 22 GENES IMPLIQUES DANS LES CANCERS\\n\\nDr Sarah Bouri \\nDr Xavier Catteau \\nDr Roland de Wind\\n\\nCOLORECTAUX ET PULMONAIRES\\n\\nDr Valérie Segers\\n\\n(COLON & LUNG CANCER PANEL) \\nHUB – Centre d’Anatomie Pathologique  –  est accrédité par BELAC sous le numéro de\\n\\nDr Anne Theunis \\nDr Marie-Paule Van Craynest\\n\\nSecrétariat Médical \\nT. +32 (0)2 541 73 23\\n\\ncertificat B-727 MED \\n \\nI. Renseignements anatomopathologiques \\n \\nN° du prélèvement : 24MH9794 RF \\n \\nDate du prélèvement : 23/07/24 \\n \\nOrigine du prélèvement : Centre Hospitalier de Mouscron \\n \\nType de prélèvement : Adénocarcinome lieberkühnien \\n \\n \\nII. Evaluation de l’échantillon \\n- % de cellules tumorales : 20% \\n- Qualité du séquençage : Optimale (coverage moyen > 1000x) \\n- Les exons à considérer comme non contributifs sont détaillés dans le tableau ci-dessous (point III).  \\n- Commentaires : Nous attirons votre attention sur le fait que le délai de fixation n'est pas indiqué sur la feuille \\nde demande. Un délai de fixation supérieur à 1h pourrait éventuellement avoir un impact sur les résultats.\\n\\n+32 (0)2 555 33 35\\n\\nSecMed.AnaPath@hubruxelles.be\\n\\nSecrétariat Direction\\n\\nT. +32 (0)2 555 31 15  \\nMme Kathia El Yassini \\nKathia.elyassini@hubruxelles.be\\n\\nMme Véronique Millecamps \\nveronique.millecamps@hubruxelles.be\\n\\n1 / 3\\n\\nSuite de l’examen N° 24EM03352 concernant le patient\\n\\nIII. Méthodologie (effectué par : MAGU) \\n \\n- \\nExtraction ADN à partir de coupes paraffinées après macrodissection des zones \\ntumorales ou à partir de frottis.  \\n \\n- \\nDétection par « Next Generation Sequencing » (sur Ion Gene Studio S5, Ion Torrent \\navec Kit AmpliSeq colon & lung cancer panel) de mutations dans 22 gènes liés aux \\ncancers colorectaux et pulmonaires :\\n\\nExons Non \\nContributif \\n(coverage <\\n\\nExons Non \\nContributif \\n(coverage <\\n\\nGene \\nRefSeq \\nExons testés\\n\\nGene \\nRefSeq \\nExons testés\\n\\n250x)*\\n\\n250x)* \\nAKT1 \\nNM_05163 \\n3 \\n \\n \\nFGFR3 \\nNM_000142 \\n7, 9, 14, 16, 18 \\n \\nALK \\nNM_004304 \\n22, 23, 25 \\n \\n \\nKRAS \\nNM_033360 \\n2-4 \\n \\nBRAF \\nNM_004333 \\n11,  15 \\n \\n \\nMAP2K1\\nNM_002755 \\n2\\n\\nCTNNB1 \\nNM_001904 \\n3 \\n \\n \\nMET \\nNM_001127500\\n2, 14, 16, 19 \\n \\nDDR2 \\nNM_001014796\\n6, 9, 13-16, 18 \\n \\n \\nNOTCH1\\nNM_017617 \\n26, 27 \\n \\nEGFR \\nNM_005228 \\n12, 18-21 \\n \\n \\nNRAS \\nNM_002524 \\n2, 3, 4\\n\\nERBB2 \\nNM_004448 \\n19-21 \\n \\n \\nPIK3CA \\nNM_006218 \\n9, 13, 20\\n\\n3, 4, 6-9, 15,\\n\\nERBB4 \\nNM_005235\\n\\n23 \\n \\n \\nPTEN \\nNM_000314 \\n1, 3, 6-8\\n\\n3, 5, 6, 8, 9, 10,\\n\\nFBXW7 \\nNM_033632 \\n5, 8-11 \\n \\n \\nSMAD4 \\nNM_005359\\n\\n12 \\n \\nFGFR1 \\nNM_023110 \\n4, 7 \\n \\n \\nSTK11 \\nNM_000455 \\n1, 4-6, 8\\n\\nFGFR2 \\nNM_022970 \\n7, 9, 12 \\n \\n \\nTP53 \\nNM_000546 \\n2, 4-8, 10 \\n \\n* Un coverage < 250x induit une perte de sensibilité et de spécificité de la méthode.  \\n \\n- \\nSensibilité : la technique utilisée détecte une mutation si l’échantillon contient > 4% \\nd’ADN mutant. Seules les mutations rapportées dans COSMIC et avec une fréquence \\nsupérieure à 4% et un variant coverage >30x sont rapportées. \\n \\nIV. Résultats  \\nListe des mutations détectées :\\n\\nGène\\nExon\\nMutation\\nCoverage\\n% d’ADN muté\\nMutations avec impact clinique avéré\\nKRAS\\n2\\np.G12V\\n1644\\n5%\\nMutations avec impact clinique indéterminé\\nTP53\\n5\\np.Y163*\\n1041\\n6%\\n \\nV. Discussion : \\n \\nLes mutations dans les exons 2, 3 et 4 du gène KRAS sont associées à une résistance aux \\nanti-EGFR. \\nAmado RG et al., J Clin Oncol 2008, 26 :1626-34 \\nDouillard JY et al., N Engl J Med 2013, 369 :1023-34 \\n \\nLes mutations du gène TP53 sont fréquentes dans les cancers colorectaux, leur impact \\nclinique est indéterminé.\\n\\n| 0      | 1            | 2                   | 3            |\\n|:-------|:-------------|:--------------------|:-------------|\\n| Gene   | RefSeq       | Exons testés        | Exons Non    |\\n|        |              |                     | Contributif  |\\n|        |              |                     | (coverage <  |\\n|        |              |                     | 250x)*       |\\n| FGFR3  | NM_000142    | 7, 9, 14, 16, 18    |              |\\n| KRAS   | NM_033360    | 2-4                 |              |\\n| MAP2K1 | NM_002755    | 2                   |              |\\n| MET    | NM_001127500 | 2, 14, 16, 19       |              |\\n| NOTCH1 | NM_017617    | 26, 27              |              |\\n| NRAS   | NM_002524    | 2, 3, 4             |              |\\n| PIK3CA | NM_006218    | 9, 13, 20           |              |\\n| PTEN   | NM_000314    | 1, 3, 6-8           |              |\\n| SMAD4  | NM_005359    | 3, 5, 6, 8, 9, 10,  |              |\\n|        |              | 12                  |              |\\n| STK11  | NM_000455    | 1, 4-6, 8           |              |\\n| TP53   | NM_000546    | 2, 4-8, 10          |              |\\n\\n| 0      | 1            | 2                | 3            |\\n|:-------|:-------------|:-----------------|:-------------|\\n| Gene   | RefSeq       | Exons testés     | Exons Non    |\\n|        |              |                  | Contributif  |\\n|        |              |                  | (coverage <  |\\n|        |              |                  | 250x)*       |\\n| AKT1   | NM_05163     | 3                |              |\\n| ALK    | NM_004304    | 22, 23, 25       |              |\\n| BRAF   | NM_004333    | 11,  15          |              |\\n| CTNNB1 | NM_001904    | 3                |              |\\n| DDR2   | NM_001014796 | 6, 9, 13-16, 18  |              |\\n| EGFR   | NM_005228    | 12, 18-21        |              |\\n| ERBB2  | NM_004448    | 19-21            |              |\\n| ERBB4  | NM_005235    | 3, 4, 6-9, 15,   |              |\\n|        |              | 23               |              |\\n| FBXW7  | NM_033632    | 5, 8-11          |              |\\n| FGFR1  | NM_023110    | 4, 7             |              |\\n| FGFR2  | NM_022970    | 7, 9, 12         |              |\\n\\n| 0                                          |\\n|:-------------------------------------------|\\n| Gène                                       |\\n| Exon                                       |\\n| Mutation                                   |\\n| Coverage                                   |\\n| % d’ADN muté                               |\\n| Mutations avec impact clinique avéré       |\\n| KRAS                                       |\\n| 2                                          |\\n| p.G12V                                     |\\n| 1644                                       |\\n| 5%                                         |\\n| Mutations avec impact clinique indéterminé |\\n| TP53                                       |\\n| 5                                          |\\n| p.Y163*                                    |\\n| 1041                                       |\\n| 6%                                         |\\n\\n2 / 3\\n\\nSuite de l’examen N° 24EM03352 concernant le patient\\n\\nVI. Conclusion : (MAGU le 09/08/2024) \\n \\nPrésence de la mutation G12V du gène KRAS. \\nA noter la présence de la mutation Y163* du gène TP53, dont l’impact clinique est \\nindéterminé.  \\n \\nPour toute information complémentaire, veuillez nous contacter au 02/555.85.08 ou par mail : \\nBiomol.AnaPath@erasme.ulb.ac.be \\nN.B. Pour les prélèvements d’histologie et de cytologie ainsi que pour les examens complémentaires \\nde biologie moléculaire, merci d’utiliser les nouvelles prescriptions disponibles sur le site internet du \\nHUB :  \\nhttps://www.hubruxelles.be/sites/default/files/2024-03-04_demande%20analyse%20anapath%20cytologie%20v3.pdf \\nhttps://www.hubruxelles.be/sites/default/files/FO-HUB-BM-11%20Demande%20de%20biologie%20mol%C3%A9culaire-\\nIPD%20v1.doc \\n \\n \\n \\n  \\n  \\nDr  M REMMELINK\\n\\nDr ROUSSEAU EMMANUEL\\n\\n3 / 3\", 'image': [<PIL.PpmImagePlugin.PpmImageFile image mode=RGB size=1653x2339 at 0x7F190FE97EB0>, <PIL.PpmImagePlugin.PpmImageFile image mode=RGB size=1653x2339 at 0x7F190FE96E60>, <PIL.PpmImagePlugin.PpmImageFile image mode=RGB size=1653x2339 at 0x7F190FE96C80>]}}\n"
     ]
    }
   ],
   "source": [
    "from pdf_parser import *\n",
    "import os\n",
    "\n",
    "pdf_folder_path = \"../data/PDF\"\n",
    "# pdf_files = [f for f in os.listdir(pdf_folder_path) if f.endswith('.pdf')]\n",
    "pdf_files = [\"24EM03352.pdf\"]\n",
    "image_save_folder_path = \"../data/images\"\n",
    "\n",
    "pdf_text_image = {}\n",
    "for pdf_file in pdf_files:\n",
    "    pdf_text_image[os.path.splitext(pdf_file)[0]] = {\"text\":extract_all(os.path.join(pdf_folder_path,pdf_file))}\n",
    "    pdf_images = extract_pdf2image(f\"{pdf_folder_path}/{pdf_file}\")\n",
    "    pdf_text_image[os.path.splitext(pdf_file)[0]][\"image\"] = pdf_images\n",
    "\n",
    "print(pdf_text_image.keys())\n",
    "print(pdf_text_image)\n"
   ]
  },
  {
   "cell_type": "code",
   "execution_count": 3,
   "id": "bc78c9f1",
   "metadata": {},
   "outputs": [
    {
     "name": "stdout",
     "output_type": "stream",
     "text": [
      "## Extraction de données d’un rapport de biopsie\n",
      "\n",
      "Tu es un assistant médical intelligent spécialisé en oncologie. Ta tâche est de lire des documents PDF contenant des **rapports de biopsie** provenant de services d'oncologie hospitaliers et d’extraire toutes les informations médicales pertinentes et de les structurer.\n",
      "Tu vas recevoir le document PDF en format image et en format textuel.\n",
      "---\n",
      "\n",
      "### Objectifs\n",
      "1. Lire et comprendre le contenu d’un rapport de biopsie.\n",
      "2. Extraire toutes les données cliniques demandées.\n",
      "3. Retourner les données dans un format structuré et facilement exploitable.\n",
      "\n",
      "---\n",
      "\n",
      "### Informations à extraire\n",
      "\n",
      "- Le numéro d'examen\n",
      "- Le numéro du prélèvement\n",
      "- Le panel de biopsie : colon and lung -> CLP, oncomine solid tumor -> OST, ovaire, endomètre, sein -> GP, thyroid -> TP, cancer -> CHP\n",
      "- L'origine du prélèvement (lieu géographique)\n",
      "- La qualité du séquencage\n",
      "- Le pourcentage (%) de cellules (tumorales) analysées\n",
      "---\n",
      "\n",
      "### Format de sortie attendu\n",
      "\n",
      "- Un dictionnaire structuré contenant les informations extraites.\n",
      "- Les clés du dictionnaire doivent correspondre aux informations à extraire.\n",
      "- Les valeurs doivent être les données extraites du rapport.\n",
      "\n",
      "Exemple : {\"Examen\" : \"24EM03460\",\"N° du prélèvement\":\"24MH9721 BN\",\"Panel\" : \"CLP\", \"Origine du prélèvement\" : \"Centre Hospitalier de Mouscron\",\"Type de prélèvement\" : \"Adénocarcinome lieberkühnien\",\"Qualité du séquencage\":\"Optimale\",\"% cellules\" : 50}\n",
      "---\n",
      "\n",
      "### Contraintes et règles\n",
      "\n",
      "- Si une donnée est absente du rapport, indique : \"None\"\n",
      "- Ne jamais inventer, compléter ou reformuler les données.\n",
      "- Ne pas altérer les formulations médicales.\n",
      "- Respecter la confidentialité des informations personnelles et médicales.\n",
      "\n",
      "---\n",
      "\n",
      "### Langue\n",
      "\n",
      "- **Langue du document source** : Français  \n",
      "- **Langue de la sortie** : Français\n",
      "\n"
     ]
    }
   ],
   "source": [
    "with open(\"../prompt/system_prompt_metadata.txt\", \"r\") as f:\n",
    "    system_prompt = f.read()\n",
    "print(system_prompt)"
   ]
  },
  {
   "cell_type": "markdown",
   "id": "7f620a20",
   "metadata": {},
   "source": [
    "## Model definition\n",
    "\n",
    "When running on cpu, 38min inference time for 1 request"
   ]
  },
  {
   "cell_type": "code",
   "execution_count": null,
   "id": "ccbe3bd9",
   "metadata": {},
   "outputs": [
    {
     "name": "stderr",
     "output_type": "stream",
     "text": [
      "Loading checkpoint shards: 100%|██████████| 2/2 [00:03<00:00,  1.73s/it]\n",
      "Device set to use cpu\n",
      "Setting `pad_token_id` to `eos_token_id`:1 for open-end generation.\n"
     ]
    },
    {
     "name": "stdout",
     "output_type": "stream",
     "text": [
      "```json\n",
      "{\n",
      "  \"Examen\": \"24EM03352\",\n",
      "  \"N° du prélèvement\": \"24MH9794 RF\",\n",
      "  \"Panel\": \"COLP\",\n",
      "  \"Origine du prélèvement\": \"Centre Hospitalier de Mouscron\",\n",
      "  \"Type de prélèvement\": \"Adénocarcinome lieberkühnien\",\n",
      "  \"Qualité du séquencage\": \"Optimale\",\n",
      "  \"%\" : \"20\",\n",
      "  \"Exons Non Contributif (coverage < 250x)*\" : \"AKT1 3, FGFR3 NM_000142 7, 9, 14, 16, 18, ALK NM_004304 22, 23, 25, KRAS NM_033360 2-\n"
     ]
    }
   ],
   "source": [
    "from transformers import pipeline\n",
    "import torch\n",
    "from huggingface_hub import login\n",
    "\n",
    "with open(\"../login.txt\", \"r\") as f:\n",
    "    token = f.read()\n",
    "login(token) #token from huggingface.co necessary to use gemma3\n",
    "\n",
    "model_name = \"google/medgemma-4b-it\"\n",
    "\n",
    "pipe = pipeline(\n",
    "    \"image-text-to-text\",\n",
    "    model=model_name,\n",
    "    torch_dtype=torch.bfloat16,\n",
    "    device=\"cpu\", #uses \"cpu\" here because the \"cuda\" requires 3 Go of VRAM\n",
    ")\n",
    "\n",
    "messages = [\n",
    "    {\n",
    "        \"role\": \"system\",\n",
    "        \"content\": [{\"type\": \"text\", \"text\": system_prompt}]\n",
    "    },\n",
    "    {\n",
    "        \"role\": \"user\",\n",
    "        \"content\": (\n",
    "            [{\"type\": \"text\", \"text\": pdf_text_image[\"24EM03352\"][\"text\"]}]\n",
    "            #+ [{\"type\": \"image\", \"image\": img} for img in pdf_text_image[\"24EM03352\"][\"image\"]]\n",
    "        )\n",
    "    }\n",
    "]\n",
    "\n",
    "output = pipe(text=messages, max_new_tokens=400) #temperature=0\n",
    "print(output[0][\"generated_text\"][-1][\"content\"])"
   ]
  },
  {
   "cell_type": "markdown",
   "id": "da0df89e",
   "metadata": {},
   "source": [
    "Show results"
   ]
  },
  {
   "cell_type": "code",
   "execution_count": 8,
   "id": "6236da04",
   "metadata": {},
   "outputs": [],
   "source": [
    "#save the output in json format\n",
    "import json\n",
    "output_json = {\n",
    "    \"pdf_file\": pdf_file,\n",
    "    \"output\": output[0][\"generated_text\"][-1][\"content\"]\n",
    "}\n",
    "with open(\"../out/medgemma3.json\", \"w\") as f:\n",
    "    json.dump(output_json, f, indent=4)\n"
   ]
  }
 ],
 "metadata": {
  "kernelspec": {
   "display_name": "Python 3",
   "language": "python",
   "name": "python3"
  },
  "language_info": {
   "codemirror_mode": {
    "name": "ipython",
    "version": 3
   },
   "file_extension": ".py",
   "mimetype": "text/x-python",
   "name": "python",
   "nbconvert_exporter": "python",
   "pygments_lexer": "ipython3",
   "version": "3.10.12"
  }
 },
 "nbformat": 4,
 "nbformat_minor": 5
}
