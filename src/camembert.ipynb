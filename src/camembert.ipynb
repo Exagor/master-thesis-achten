{
 "cells": [
  {
   "cell_type": "markdown",
   "id": "acf2d7c2",
   "metadata": {},
   "source": [
    "# Testing Camemberta V2"
   ]
  }
 ],
 "metadata": {
  "language_info": {
   "name": "python"
  }
 },
 "nbformat": 4,
 "nbformat_minor": 5
}
